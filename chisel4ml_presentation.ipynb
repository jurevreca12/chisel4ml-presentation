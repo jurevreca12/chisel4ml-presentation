{
 "cells": [
  {
   "cell_type": "code",
   "execution_count": null,
   "id": "a05e7884",
   "metadata": {
    "slideshow": {
     "slide_type": "skip"
    }
   },
   "outputs": [],
   "source": [
    "!pip install chisel4ml"
   ]
  },
  {
   "cell_type": "code",
   "execution_count": null,
   "id": "44ce9336",
   "metadata": {
    "slideshow": {
     "slide_type": "skip"
    }
   },
   "outputs": [],
   "source": [
    "import chisel4ml"
   ]
  },
  {
   "cell_type": "markdown",
   "id": "f1089535-599c-4c6c-8092-050b5a21d3a4",
   "metadata": {
    "slideshow": {
     "slide_type": "slide"
    }
   },
   "source": [
    "# Chisel4ml - high-level software architecture"
   ]
  },
  {
   "cell_type": "markdown",
   "id": "5480e5fc",
   "metadata": {},
   "source": [
    "<img src=\"slike/chisel4ml_architecture.png\" width=55%>"
   ]
  },
  {
   "cell_type": "markdown",
   "id": "c5ebd188",
   "metadata": {
    "slideshow": {
     "slide_type": "slide"
    }
   },
   "source": [
    "# chisel4ml - example"
   ]
  },
  {
   "cell_type": "code",
   "execution_count": 9,
   "id": "20d37ae0",
   "metadata": {},
   "outputs": [
    {
     "name": "stderr",
     "output_type": "stream",
     "text": [
      "INFO:root:keras dict linear\n",
      "INFO:root:keras dict linear\n",
      "INFO:root:keras dict linear\n",
      "INFO:root:keras dict linear\n",
      "INFO:chisel4ml.transforms.qkeras_transforms:Calling transformation <class 'chisel4ml.transforms.qkeras_remove_dead_layers.QKerasRemoveDeadLayers'> on layers:[<class 'keras.engine.input_layer.InputLayer'>].\n",
      "INFO:chisel4ml.transforms.qkeras_transforms:Calling transformation <class 'chisel4ml.transforms.qkeras_active_qact_fuse.QKerasActiveQActFuse'> on layers:[<class 'qkeras.qlayers.QDense'>, <class 'qkeras.qlayers.QActivation'>].\n",
      "INFO:chisel4ml.transforms.qkeras_transforms:Calling transformation <class 'chisel4ml.transforms.qkeras_active_qact_fuse.QKerasActiveQActFuse'> on layers:[<class 'qkeras.qlayers.QDense'>, <class 'qkeras.qlayers.QActivation'>].\n",
      "INFO:chisel4ml.transforms.qkeras_transforms:Calling transformation <class 'chisel4ml.transforms.qkeras_qact_active_fuse.QKerasQActActiveFuse'> on layers:[<class 'qkeras.qlayers.QActivation'>, <class 'qkeras.qlayers.QDense'>].\n",
      "WARNING:chisel4ml.transforms.qkeras_util:The bias tensor was left unquantized. Adding 16-bit signed integer quantization.\n",
      "INFO:chisel4ml.transforms.qkeras_transforms:Calling transformation <class 'chisel4ml.transforms.qkeras_lbir_qdense_fuse.QKerasLbirQDenseFuse'> on layers:[<class 'lbir_pb2.LayerWrap'>, <class 'qkeras.qlayers.QDense'>].\n",
      "WARNING:chisel4ml.transforms.qkeras_util:The bias tensor was left unquantized. Adding 16-bit signed integer quantization.\n"
     ]
    },
    {
     "name": "stdout",
     "output_type": "stream",
     "text": [
      "1/1 [==============================] - 0s 431ms/step\n",
      "1/1 [==============================] - 0s 29ms/step\n",
      "1/1 [==============================] - 0s 41ms/step\n",
      "1/1 [==============================] - 0s 19ms/step\n",
      "1/1 [==============================] - 0s 19ms/step\n",
      "1/1 [==============================] - 0s 24ms/step\n",
      "1/1 [==============================] - 0s 27ms/step\n",
      "1/1 [==============================] - 0s 26ms/step\n",
      "1/1 [==============================] - 0s 50ms/step\n",
      "1/1 [==============================] - 0s 29ms/step\n"
     ]
    },
    {
     "name": "stderr",
     "output_type": "stream",
     "text": [
      "INFO:chisel4ml.circuit:Succesfully deleted circuit id: 3\n"
     ]
    },
    {
     "data": {
      "text/plain": [
       "True"
      ]
     },
     "execution_count": 9,
     "metadata": {},
     "output_type": "execute_result"
    }
   ],
   "source": [
    "import numpy as np\n",
    "import qkeras\n",
    "import tensorflow as tf\n",
    "from chisel4ml import optimize, generate\n",
    "\n",
    "w1 = np.array([[1, 2, 3, 4], [-4, -3, -2, -1], [2, -1, 1, 1]])\n",
    "b1 = np.array([1, 2, 0, 1])\n",
    "w2 = np.array([-1, 4, -3, -1]).reshape(4, 1)\n",
    "b2 = np.array([2])\n",
    "\n",
    "x = x_in = tf.keras.layers.Input(shape=3)\n",
    "x = qkeras.QActivation(\n",
    "    qkeras.quantized_bits(bits=4, integer=3, keep_negative=True)\n",
    ")(x)\n",
    "x = qkeras.QDense(\n",
    "    4,\n",
    "    kernel_quantizer=qkeras.quantized_bits(\n",
    "        bits=4, integer=3, keep_negative=True, alpha=np.array([0.5, 0.25, 1, 0.25])\n",
    "    ),\n",
    ")(x)\n",
    "x = qkeras.QActivation(qkeras.quantized_relu(bits=3, integer=3))(x)\n",
    "x = qkeras.QDense(\n",
    "    1,\n",
    "    kernel_quantizer=qkeras.quantized_bits(\n",
    "        bits=4, integer=3, keep_negative=True, alpha=np.array([0.125])\n",
    "    ),\n",
    ")(x)\n",
    "x = qkeras.QActivation(qkeras.quantized_relu(bits=3, integer=3))(x)\n",
    "model = tf.keras.Model(inputs=[x_in], outputs=[x])\n",
    "model.compile()\n",
    "model.layers[2].set_weights([w1, b1])\n",
    "model.layers[4].set_weights([w2, b2])\n",
    "data = np.array(\n",
    "    [\n",
    "        [0.0, 0.0, 0.0],\n",
    "        [0.0, 1.0, 2.0],\n",
    "        [2.0, 1.0, 0.0],\n",
    "        [4.0, 4.0, 4.0],\n",
    "        [7.0, 7.0, 7.0],\n",
    "        [6.0, 0.0, 7.0],\n",
    "        [3.0, 3.0, 3.0],\n",
    "        [7.0, 0.0, 0.0],\n",
    "        [0.0, 7.0, 0.0],\n",
    "        [0.0, 0.0, 7.0],\n",
    "    ]\n",
    ")\n",
    "\n",
    "\n",
    "opt_model = optimize.qkeras_model(model)\n",
    "circuit = generate.circuit(opt_model)\n",
    "for x in data:\n",
    "    sw_res = opt_model.predict(np.expand_dims(x, axis=0))\n",
    "    hw_res = circuit(x) # RTL simulation\n",
    "    assert np.array_equal(sw_res.flatten(), hw_res.flatten())\n",
    "circuit.delete_from_server()"
   ]
  },
  {
   "cell_type": "markdown",
   "id": "e7502019",
   "metadata": {
    "slideshow": {
     "slide_type": "slide"
    }
   },
   "source": [
    "# Comparison with hls4ml\n",
    "Vivado 2019.2 synthesis results for a 4 layer neural network trained on hls4ml\\_lhc\\_jets\\_hl. For more info see _Towards Deploying Highly Quantized Neural Networks on FPGA Using Chisel_ (DSD 2023)\n",
    "<img src=\"slike/legenda.png\" width=20% align=center>\n",
    "<p align=\"center\">\n",
    "<img src=\"slike/FF_graph.png\" width=450  height=400 align=left>\n",
    "<img src=\"slike/LUT_graph.png\" width=450 height=400 align=right>\n",
    "</p>\n",
    "<p align=\"center\">\n",
    "<img src=\"slike/freq_graph.png\" width=450  height=400 align=left>\n",
    "<img src=\"slike/delay_graph.png\" width=450 height=400 align=right>\n",
    "</p>"
   ]
  },
  {
   "cell_type": "markdown",
   "id": "68f2dd6e",
   "metadata": {
    "slideshow": {
     "slide_type": "slide"
    }
   },
   "source": [
    "# Supported operations/layers\n",
    "Currently chisel4ml the following layers:\n",
    "* QDense (fully unrolled)\n",
    "* Sparse QDense\n",
    "* QDepthwiseConv2D \\*\n",
    "* MaxPool2D\n",
    "* FFT (Custom layer)\n",
    "* LMFE (Custom audio features)"
   ]
  },
  {
   "cell_type": "markdown",
   "id": "81e32fe9",
   "metadata": {
    "slideshow": {
     "slide_type": "slide"
    }
   },
   "source": [
    "# Future work\n",
    "* Update from chisel 3.5.6 to chisel 6 (generation speed boost)\n",
    "* Integrate with QONNX\n",
    "* Classic convolution -> will need a unit to change tensor layout probably\n",
    "* Folded QDense -> A processing unit matrix-vector multiply.\n",
    "* Support for skip connections"
   ]
  },
  {
   "cell_type": "markdown",
   "id": "84eefbd3",
   "metadata": {
    "slideshow": {
     "slide_type": "slide"
    }
   },
   "source": [
    "# Ideas \n",
    "\n",
    "* Integration with rocketchip / dsptools -> ASIC prototyping posibility\n",
    "* Integration with fpga-tidbits -> easier FPGA prototyping\n"
   ]
  },
  {
   "cell_type": "code",
   "execution_count": 10,
   "id": "6ebe0abc",
   "metadata": {},
   "outputs": [
    {
     "data": {
      "text/plain": [
       "name: \"chisel4ml_model\"\n",
       "layers {\n",
       "  dense {\n",
       "    thresh {\n",
       "      dtype {\n",
       "        signed: true\n",
       "        bitwidth: 16\n",
       "        shift: 0\n",
       "        offset: 0\n",
       "      }\n",
       "      shape: 4\n",
       "      values: -1.0\n",
       "      values: -2.0\n",
       "      values: -0.0\n",
       "      values: -1.0\n",
       "    }\n",
       "    kernel {\n",
       "      dtype {\n",
       "        signed: true\n",
       "        bitwidth: 4\n",
       "        shift: -1\n",
       "        shift: -2\n",
       "        shift: 0\n",
       "        shift: -2\n",
       "        offset: 0\n",
       "      }\n",
       "      shape: 4\n",
       "      shape: 3\n",
       "      values: 1.0\n",
       "      values: 2.0\n",
       "      values: 3.0\n",
       "      values: 4.0\n",
       "      values: -4.0\n",
       "      values: -3.0\n",
       "      values: -2.0\n",
       "      values: -1.0\n",
       "      values: 2.0\n",
       "      values: -1.0\n",
       "      values: 1.0\n",
       "      values: 1.0\n",
       "    }\n",
       "    input {\n",
       "      dtype {\n",
       "        signed: true\n",
       "        bitwidth: 4\n",
       "        shift: 0\n",
       "        offset: 0\n",
       "      }\n",
       "      shape: 3\n",
       "    }\n",
       "    output {\n",
       "      dtype {\n",
       "        bitwidth: 3\n",
       "        shift: 0\n",
       "        offset: 0\n",
       "      }\n",
       "      shape: 4\n",
       "    }\n",
       "    activation: RELU\n",
       "    rounding_mode: ROUND_HALF_TO_EVEN\n",
       "  }\n",
       "}\n",
       "layers {\n",
       "  dense {\n",
       "    thresh {\n",
       "      dtype {\n",
       "        signed: true\n",
       "        bitwidth: 16\n",
       "        shift: 0\n",
       "        offset: 0\n",
       "      }\n",
       "      shape: 1\n",
       "      values: -2.0\n",
       "    }\n",
       "    kernel {\n",
       "      dtype {\n",
       "        signed: true\n",
       "        bitwidth: 4\n",
       "        shift: -3\n",
       "        offset: 0\n",
       "      }\n",
       "      shape: 1\n",
       "      shape: 4\n",
       "      values: -1.0\n",
       "      values: 4.0\n",
       "      values: -3.0\n",
       "      values: -1.0\n",
       "    }\n",
       "    input {\n",
       "      dtype {\n",
       "        bitwidth: 3\n",
       "        shift: 0\n",
       "        offset: 0\n",
       "      }\n",
       "      shape: 4\n",
       "    }\n",
       "    output {\n",
       "      dtype {\n",
       "        bitwidth: 3\n",
       "        shift: 0\n",
       "        offset: 0\n",
       "      }\n",
       "      shape: 1\n",
       "    }\n",
       "    activation: RELU\n",
       "    rounding_mode: ROUND_HALF_TO_EVEN\n",
       "  }\n",
       "}"
      ]
     },
     "execution_count": 10,
     "metadata": {},
     "output_type": "execute_result"
    }
   ],
   "source": [
    "circuit.lbir_model"
   ]
  },
  {
   "cell_type": "code",
   "execution_count": null,
   "id": "b82c6cb5",
   "metadata": {},
   "outputs": [],
   "source": []
  }
 ],
 "metadata": {
  "celltoolbar": "Slideshow",
  "kernelspec": {
   "display_name": "Python 3 (ipykernel)",
   "language": "python",
   "name": "python3"
  },
  "language_info": {
   "codemirror_mode": {
    "name": "ipython",
    "version": 3
   },
   "file_extension": ".py",
   "mimetype": "text/x-python",
   "name": "python",
   "nbconvert_exporter": "python",
   "pygments_lexer": "ipython3",
   "version": "3.8.10"
  }
 },
 "nbformat": 4,
 "nbformat_minor": 5
}
